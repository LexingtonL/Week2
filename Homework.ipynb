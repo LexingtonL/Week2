{
 "cells": [
  {
   "cell_type": "markdown",
   "metadata": {},
   "source": [
    "## Homework\n",
    "\n",
    "Complete this notebook and the exercise prompts in the other lecture notebooks and submit them on GitHub"
   ]
  },
  {
   "cell_type": "markdown",
   "metadata": {},
   "source": [
    "Question 1: Provide a definition of and example for each of these terms:\n",
    "\n",
    "| Term | Example | Definition |\n",
    "| ----- | ------- | ---------- |\n",
    "| type  |      str      |   the classification of a variable, certain types work with certain functions  | \n",
    "| variables  |     luckyNumber: str = 8       |   a storage unit for a single value  | \n",
    "| boolean  |     true       |  true or false   | \n",
    "| arithmetic operators  |      +      |   simple addition, subtraction, multiplication, division operators  | \n",
    "| operands  |     3 + 5 (3 and 5)      |   the integers or floats being added, subtracted, etc. together | \n",
    "| comparison operator  |      >      |   greater than, less than, greater than or equal to, less than or equal to   | \n",
    "| boolean operator   |      AND      |   aids the nesting of True and False statments. also can turn a boolean oppposite   | \n",
    "| conditional statement   |     if, elif, else       |  checks if something is true or false and can have differnet outputs for  each possibility  | \n"
   ]
  },
  {
   "cell_type": "markdown",
   "metadata": {},
   "source": [
    "Question 2: For each of these operators, for each of the python data types we know, can it take them as operands? Write `Y` or `N` (Assume both operands are the same type.)\n",
    "\n",
    "| Operator | Int/Float | String | Boolean | \n",
    "| -------  | --------- | ------ | ------- | \n",
    "| +\t|    Y     |   Y    |      N     | \n",
    "| -\t|    Y     |   N    |     N      | \n",
    "| *\t|     Y    |    Y   |    N       |   \n",
    "| /\t|      Y   |    N   |    N       |   \n",
    "| **\t|   Y      |    N   |    N       |   \n",
    "| % |      Y   |    N   |       N    |   \n",
    "| == |     Y    |    Y   |      Y     |   \n",
    "| != |      Y   |   Y    |     Y      |   \n",
    "| > |     Y    |    N   |    N       |   \n",
    "| < |     Y    |    N   |      N     |   \n",
    "| >= |    Y     |   N    |     N      |   \n",
    "| <= |     Y    |   N    |     N      |   \n",
    "| and |     N    |   N    |    Y       |   \n",
    "| or |    N     |   N    |      Y     |   \n",
    "| not |    N     |   N    |     Y      |   "
   ]
  },
  {
   "cell_type": "markdown",
   "metadata": {},
   "source": [
    "Question 3:  There are three aspects to any problem in computing - INPUT, COMPUTATION, OUTPUT. Use this framework to break down a problem. Describe what are the inputs, how to get them, what computation you would do, and how would you output them.\n",
    "\n",
    "\n",
    "If I wanted to check if someone's age was above a certain number, I would ask them their age(input, through the input command), check if it was above a certain mark(computation, comparison operator), and then print if it is above the certain age(output, true or false)"
   ]
  },
  {
   "cell_type": "markdown",
   "metadata": {},
   "source": [
    "Question 4: Identify the problems in the following pieces of code and fix them. Describe the problem either by writing comment in the code cell or using Markdown"
   ]
  },
  {
   "cell_type": "code",
   "execution_count": 4,
   "metadata": {},
   "outputs": [],
   "source": [
    "# A.\n",
    "my_variable: int = \"123\"\n",
    "#the quotation marks make 123 a string, which is not an int, as stated by \"int\"\n",
    "\n",
    "my_variable: int = 123"
   ]
  },
  {
   "cell_type": "code",
   "execution_count": 2,
   "metadata": {},
   "outputs": [
    {
     "ename": "SyntaxError",
     "evalue": "Missing parentheses in call to 'print'. Did you mean print(...)? (3014029293.py, line 2)",
     "output_type": "error",
     "traceback": [
      "\u001b[1;36m  Cell \u001b[1;32mIn[2], line 2\u001b[1;36m\u001b[0m\n\u001b[1;33m    print my_variable\u001b[0m\n\u001b[1;37m    ^\u001b[0m\n\u001b[1;31mSyntaxError\u001b[0m\u001b[1;31m:\u001b[0m Missing parentheses in call to 'print'. Did you mean print(...)?\n"
     ]
    }
   ],
   "source": [
    "# B\n",
    "print my_variable\n",
    "\n",
    "#needs parentheses \n",
    "#correct version: print(my_variable)  "
   ]
  },
  {
   "cell_type": "code",
   "execution_count": 2,
   "metadata": {},
   "outputs": [],
   "source": [
    "# C\n",
    "num_a: int = 5\n",
    "num_b: int = 10\n",
    "\n",
    "if num_a < num_b\n",
    "    print(\"num_a is less than num_b\")\n",
    "else\n",
    "    print(\"num_b is less than num_a\n",
    "          \n",
    "#needs to be an f string, then bracets and parentheses are needed for there not to be syntax errors\n",
    "#correct version below\n",
    "\n",
    "#if num_a < num_b\n",
    "#    print(f\"{num_a} is less than {num_b}\")\n",
    "#else\n",
    "#    print(f\"{num_b} is less than {num_a}\")"
   ]
  },
  {
   "cell_type": "code",
   "execution_count": 5,
   "metadata": {},
   "outputs": [
    {
     "name": "stdout",
     "output_type": "stream",
     "text": [
      "Hello user_name from home. Welcome to earth\n",
      "Hello Kal-El from Krypton. Welcome to earth\n"
     ]
    }
   ],
   "source": [
    "# D\n",
    "user_name: str = \"Kal-El\"\n",
    "home: str = \"Krypton\"\n",
    "\n",
    "print(f\"Hello user_name from home. Welcome to earth\")\n",
    "\n",
    "#f string needs curly brackets\n",
    "\n",
    "print(f\"Hello {user_name} from {home}. Welcome to earth\")"
   ]
  },
  {
   "cell_type": "markdown",
   "metadata": {},
   "source": [
    "Question 5: What is the following expression checking? What does it evaluate to? How can you modify the expression to get the opposite value?\n",
    "\n",
    "it is checking if the string \"hello\" is in the string \"hi, how are you doing?\"\n",
    "\n",
    "i can put not before in to get the opposite"
   ]
  },
  {
   "cell_type": "code",
   "execution_count": 6,
   "metadata": {},
   "outputs": [
    {
     "data": {
      "text/plain": [
       "True"
      ]
     },
     "execution_count": 6,
     "metadata": {},
     "output_type": "execute_result"
    }
   ],
   "source": [
    "\"hello\" in \"hi, how are you doing?\"\n",
    "\n",
    "#opposite below\n",
    "\n",
    "\"hello\" not in \"hi, how are you doing?\""
   ]
  },
  {
   "cell_type": "markdown",
   "metadata": {},
   "source": [
    "Question 6: Convert the instruction/question into code\n",
    "\n",
    "* A: Convert all the letters into uppercase letters - \"hEElOO\"  \n",
    "* B: Check if the string \"hello123\" has only letters\n",
    "* C: Count the number of letters in the word \"strawberry\"\n",
    "* D: Count the number of the letter \"e\" in the string: \"Do you find this humorous?\""
   ]
  },
  {
   "cell_type": "code",
   "execution_count": 10,
   "metadata": {},
   "outputs": [
    {
     "name": "stdout",
     "output_type": "stream",
     "text": [
      "HEELOO\n"
     ]
    },
    {
     "data": {
      "text/plain": [
       "0"
      ]
     },
     "execution_count": 10,
     "metadata": {},
     "output_type": "execute_result"
    }
   ],
   "source": [
    "#A\n",
    "\n",
    "helloUpper: str = \"hEElOO\"\n",
    "\n",
    "print(helloUpper.upper())\n",
    "\n",
    "#B\n",
    "\n",
    "\"hello123\".isalpha()\n",
    "\n",
    "#C \n",
    "\n",
    "len(\"strawberry\")\n",
    "\n",
    "#D\n",
    "\n",
    "\"Do you find this humorous?\".count(\"e\")\n"
   ]
  },
  {
   "cell_type": "markdown",
   "metadata": {},
   "source": [
    "Question 7: Write a snippet that asks users for their age. Tell them if they are old enough to drive or not. "
   ]
  },
  {
   "cell_type": "code",
   "execution_count": 16,
   "metadata": {},
   "outputs": [
    {
     "name": "stdout",
     "output_type": "stream",
     "text": [
      "You are old enough to drive\n"
     ]
    }
   ],
   "source": [
    "age = input(\"What is your age?\")\n",
    "\n",
    "if int(age) > 16:\n",
    "    print(\"You are old enough to drive\")\n",
    "else:\n",
    "    print(\"You are not old enough to drive\")"
   ]
  },
  {
   "cell_type": "markdown",
   "metadata": {},
   "source": [
    "Question 8: Check their answer and respond accordingly. If they say their age is 2, tell them they have barely starte walking, if they say their age is 200, tell them if they are human or a robot"
   ]
  },
  {
   "cell_type": "code",
   "execution_count": 20,
   "metadata": {},
   "outputs": [
    {
     "name": "stdout",
     "output_type": "stream",
     "text": [
      "You must be a robot if you are that old\n"
     ]
    }
   ],
   "source": [
    "age = input(\"What is your age?\")\n",
    "\n",
    "if int(age) == 2:\n",
    "    print(\"You have barely started walking\")\n",
    "elif int(age) == 200:\n",
    "    print(\"You must be a robot if you are that old\")"
   ]
  },
  {
   "cell_type": "markdown",
   "metadata": {},
   "source": [
    "Question 9: At each stage, check if they are providing numbers or not. If not, tell them to do so."
   ]
  },
  {
   "cell_type": "code",
   "execution_count": 33,
   "metadata": {},
   "outputs": [
    {
     "name": "stdout",
     "output_type": "stream",
     "text": [
      " is not a valid age\n"
     ]
    }
   ],
   "source": [
    "age = input(\"What is your age?\")\n",
    "if age.isdigit():\n",
    "    \n",
    "    if int(age) >= 16:\n",
    "        print(\"You are old enough to drive.\")\n",
    "    else:\n",
    "        print(\"You are not old enough to drive.\")\n",
    "        \n",
    "    if int(age) == 2:\n",
    "        print(\"You have barely started walking!\")\n",
    "    elif int(age) == 200:\n",
    "        print(\"You must be a robot if you are that old!\")\n",
    "    \n",
    "else: \n",
    "    print(f\"{age} is not a valid age\")"
   ]
  }
 ],
 "metadata": {
  "kernelspec": {
   "display_name": "Python 3",
   "language": "python",
   "name": "python3"
  },
  "language_info": {
   "codemirror_mode": {
    "name": "ipython",
    "version": 3
   },
   "file_extension": ".py",
   "mimetype": "text/x-python",
   "name": "python",
   "nbconvert_exporter": "python",
   "pygments_lexer": "ipython3",
   "version": "3.12.5"
  }
 },
 "nbformat": 4,
 "nbformat_minor": 2
}
